{
  "cells": [
    {
      "cell_type": "markdown",
      "metadata": {
        "id": "view-in-github",
        "colab_type": "text"
      },
      "source": [
        "<a href=\"https://colab.research.google.com/github/RAG-proj-sku/ollama/blob/main/ollama.ipynb\" target=\"_parent\"><img src=\"https://colab.research.google.com/assets/colab-badge.svg\" alt=\"Open In Colab\"/></a>"
      ]
    },
    {
      "cell_type": "code",
      "source": [
        "#GPU를 인식 하지 않는 부분 수정 필요\n",
        "!sudo apt update\n",
        "!sudo apt purge *nvidia* -y\n",
        "!sudo apt install nvidia-driver-530 -y"
      ],
      "metadata": {
        "id": "A0Pr1RJFNkB9"
      },
      "id": "A0Pr1RJFNkB9",
      "execution_count": null,
      "outputs": []
    },
    {
      "cell_type": "code",
      "execution_count": null,
      "id": "93f59dcb-c588-41b8-a792-55d88ade739c",
      "metadata": {
        "id": "93f59dcb-c588-41b8-a792-55d88ade739c"
      },
      "outputs": [],
      "source": [
        "# Download and run the Ollama Linux install script\n",
        "!curl -fsSL https://ollama.com/install.sh | sh\n",
        "#!command -v systemctl >/dev/null && sudo systemctl stop ollama\n",
        "#!ollama serve\n",
        "#!ollama pull gemma:2b\n",
        "#!ollama run gemma:2b"
      ]
    },
    {
      "cell_type": "code",
      "source": [
        "#Download ollama model\n",
        "import subprocess\n",
        "\n",
        "serve_process = subprocess.Popen([\"ollama\", \"serve\"])\n",
        "print(\"Ollama server is starting...\")\n",
        "\n",
        "# import time\n",
        "# time.sleep(1)\n",
        "\n",
        "run_process = subprocess.Popen([\"ollama\", \"run\", \"llama3\"], stdout=subprocess.PIPE, stderr=subprocess.PIPE)\n",
        "print(\"Running Gemma model...\")\n",
        "run_process.wait()\n",
        "print(\"Fin\")"
      ],
      "metadata": {
        "colab": {
          "base_uri": "https://localhost:8080/"
        },
        "id": "J6LCIRytfvj5",
        "outputId": "d702f257-71ae-4505-8bc5-f50da42302d1"
      },
      "id": "J6LCIRytfvj5",
      "execution_count": 28,
      "outputs": [
        {
          "output_type": "stream",
          "name": "stdout",
          "text": [
            "Ollama server is starting...\n",
            "Running Gemma model...\n",
            "Fin\n"
          ]
        }
      ]
    },
    {
      "cell_type": "code",
      "execution_count": null,
      "id": "658c147e-c7f8-490e-910e-62b80f577dda",
      "metadata": {
        "colab": {
          "base_uri": "https://localhost:8080/"
        },
        "id": "658c147e-c7f8-490e-910e-62b80f577dda",
        "outputId": "70fb4d50-c71f-4295-92c4-874589e5261a"
      },
      "outputs": [
        {
          "output_type": "stream",
          "name": "stdout",
          "text": [
            "Requirement already satisfied: aiohttp in /usr/local/lib/python3.10/dist-packages (3.9.5)\n",
            "Requirement already satisfied: pyngrok in /usr/local/lib/python3.10/dist-packages (7.1.6)\n",
            "Requirement already satisfied: aiosignal>=1.1.2 in /usr/local/lib/python3.10/dist-packages (from aiohttp) (1.3.1)\n",
            "Requirement already satisfied: attrs>=17.3.0 in /usr/local/lib/python3.10/dist-packages (from aiohttp) (23.2.0)\n",
            "Requirement already satisfied: frozenlist>=1.1.1 in /usr/local/lib/python3.10/dist-packages (from aiohttp) (1.4.1)\n",
            "Requirement already satisfied: multidict<7.0,>=4.5 in /usr/local/lib/python3.10/dist-packages (from aiohttp) (6.0.5)\n",
            "Requirement already satisfied: yarl<2.0,>=1.0 in /usr/local/lib/python3.10/dist-packages (from aiohttp) (1.9.4)\n",
            "Requirement already satisfied: async-timeout<5.0,>=4.0 in /usr/local/lib/python3.10/dist-packages (from aiohttp) (4.0.3)\n",
            "Requirement already satisfied: PyYAML>=5.1 in /usr/local/lib/python3.10/dist-packages (from pyngrok) (6.0.1)\n",
            "Requirement already satisfied: idna>=2.0 in /usr/local/lib/python3.10/dist-packages (from yarl<2.0,>=1.0->aiohttp) (3.7)\n",
            ">>> starting ollama serve\n",
            ">>> starting ngrok http --log stderr 11434 --host-header=\"localhost:11434\"\n",
            "Error: listen tcp 127.0.0.1:11434: bind: address already in use\n",
            "t=2024-04-29T02:01:50+0000 lvl=info msg=\"no configuration paths supplied\"\n",
            "t=2024-04-29T02:01:50+0000 lvl=info msg=\"using configuration at default config path\" path=/root/.config/ngrok/ngrok.yml\n",
            "t=2024-04-29T02:01:50+0000 lvl=info msg=\"open config file\" path=/root/.config/ngrok/ngrok.yml err=nil\n",
            "t=2024-04-29T02:01:50+0000 lvl=info msg=\"starting web service\" obj=web addr=127.0.0.1:4040 allow_hosts=[]\n",
            "t=2024-04-29T02:01:51+0000 lvl=info msg=\"client session established\" obj=tunnels.session\n",
            "t=2024-04-29T02:01:51+0000 lvl=info msg=\"tunnel session started\" obj=tunnels.session\n",
            "t=2024-04-29T02:01:51+0000 lvl=info msg=\"started tunnel\" obj=tunnels name=command_line addr=http://localhost:11434 url=https://07de-34-124-219-111.ngrok-free.app\n",
            "t=2024-04-29T02:02:11+0000 lvl=info msg=\"join connections\" obj=join id=bff30419d4e5 l=127.0.0.1:11434 r=210.110.32.133:52273\n",
            "t=2024-04-29T02:02:28+0000 lvl=info msg=\"join connections\" obj=join id=24e143048f38 l=127.0.0.1:11434 r=210.110.32.133:52275\n",
            "t=2024-04-29T02:02:52+0000 lvl=info msg=\"join connections\" obj=join id=3e72594cf8dd l=127.0.0.1:11434 r=210.110.32.133:52277\n",
            "t=2024-04-29T02:06:28+0000 lvl=info msg=\"join connections\" obj=join id=94fdb22626eb l=127.0.0.1:11434 r=210.110.32.133:52293\n"
          ]
        }
      ],
      "source": [
        "!pip install aiohttp pyngrok\n",
        "#ngrok에서 토큰을 가져와야 함\n",
        "#!ngrok authtoken 토큰\n",
        "!ngrok authtoken 2fkjL50os3rORYQBmSKyGLWNKTI_7cfm9nn3tg3MYJNrSqy24\n",
        "\n",
        "import os\n",
        "import asyncio\n",
        "from aiohttp import ClientSession\n",
        "\n",
        "# Set LD_LIBRARY_PATH so the system NVIDIA library becomes preferred\n",
        "# over the built-in library. This is particularly important for\n",
        "# Google Colab which installs older drivers\n",
        "os.environ.update({'LD_LIBRARY_PATH': '/usr/lib64-nvidia'})\n",
        "\n",
        "async def run(cmd):\n",
        "  '''\n",
        "  run is a helper function to run subcommands asynchronously.\n",
        "  '''\n",
        "  print('>>> starting', *cmd)\n",
        "  p = await asyncio.subprocess.create_subprocess_exec(\n",
        "      *cmd,\n",
        "      stdout=asyncio.subprocess.PIPE,\n",
        "      stderr=asyncio.subprocess.PIPE,\n",
        "  )\n",
        "\n",
        "  async def pipe(lines):\n",
        "    async for line in lines:\n",
        "      print(line.strip().decode('utf-8'))\n",
        "\n",
        "  await asyncio.gather(\n",
        "      pipe(p.stdout),\n",
        "      pipe(p.stderr),\n",
        "  )\n",
        "\n",
        "\n",
        "await asyncio.gather(\n",
        "    run(['ollama', 'serve']),\n",
        "    run(['ngrok', 'http', '--log', 'stderr', '11434', '--host-header=\"localhost:11434\"']),\n",
        ")"
      ]
    }
  ],
  "metadata": {
    "kernelspec": {
      "display_name": "Python 3",
      "name": "python3"
    },
    "language_info": {
      "codemirror_mode": {
        "name": "ipython",
        "version": 3
      },
      "file_extension": ".py",
      "mimetype": "text/x-python",
      "name": "python",
      "nbconvert_exporter": "python",
      "pygments_lexer": "ipython3",
      "version": "3.11.6"
    },
    "colab": {
      "provenance": [],
      "gpuType": "T4",
      "include_colab_link": true
    },
    "accelerator": "GPU"
  },
  "nbformat": 4,
  "nbformat_minor": 5
}